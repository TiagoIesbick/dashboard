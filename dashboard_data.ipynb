{
  "nbformat": 4,
  "nbformat_minor": 0,
  "metadata": {
    "colab": {
      "provenance": [],
      "mount_file_id": "1zvq8RRNMpHCoQJTARksJfUKrpjdkkPDa",
      "authorship_tag": "ABX9TyOHuPqx+EuHqo0ndoCIybYy",
      "include_colab_link": true
    },
    "kernelspec": {
      "name": "python3",
      "display_name": "Python 3"
    },
    "language_info": {
      "name": "python"
    }
  },
  "cells": [
    {
      "cell_type": "markdown",
      "metadata": {
        "id": "view-in-github",
        "colab_type": "text"
      },
      "source": [
        "<a href=\"https://colab.research.google.com/github/TiagoIesbick/dashboard-etl/blob/main/dashboard_data.ipynb\" target=\"_parent\"><img src=\"https://colab.research.google.com/assets/colab-badge.svg\" alt=\"Open In Colab\"/></a>"
      ]
    },
    {
      "cell_type": "code",
      "source": [
        "import pandas as pd\n",
        "import pathlib"
      ],
      "metadata": {
        "id": "OVrDn1e7NcWP"
      },
      "execution_count": 176,
      "outputs": []
    },
    {
      "cell_type": "code",
      "execution_count": 196,
      "metadata": {
        "id": "rA33izJLNIJc"
      },
      "outputs": [],
      "source": [
        "file_path = r'/content/drive/MyDrive/Dashboard_data/utils/auxiliary_tables.xlsx'\n",
        "\n",
        "sheets_info = {\n",
        "    'n_uni': {'skiprows': 2, 'cols': ['uni']},\n",
        "    'n_proj': {'skiprows': 3, 'cols': ['proj', 'nome_proj']},\n",
        "    'n_elem': {'skiprows': 3, 'cols': ['elem', 'nome_elem']},\n",
        "    'n_vinc': {'skiprows': 3, 'cols': ['vinc', 'nome_vinc']},\n",
        "    'n_rub': {'skiprows': 3, 'cols': ['rub', 'nome_rub']}\n",
        "}\n",
        "\n",
        "dfs = {\n",
        "    sheet: pd.read_excel(file_path, sheet_name=sheet, skiprows=info['skiprows'], header=None, names=info['cols'])\n",
        "    for sheet, info in sheets_info.items()\n",
        "}\n",
        "\n",
        "for sheet, df in dfs.items():\n",
        "  if 'uni' in df.columns:\n",
        "      df['nome_uni'] = df['uni'].str[5:]\n",
        "      df['uni_int'] = df['uni'].str[:4].astype(int)\n",
        "  if 'proj' in df.columns:\n",
        "      df['proj_int'] = df['proj'].str[:4].astype(int)\n",
        "  if 'elem' in df.columns:\n",
        "      df['elem_int'] = df['elem'].str[:6].astype(int)\n",
        "  if 'rub' in df.columns:\n",
        "      df['rub_int'] = df['rub'].str[:12].astype('int64')\n",
        "  if 'vinc' in df.columns:\n",
        "      df['vinc_int'] = df['vinc'].str[:4].astype(int)\n",
        "\n",
        "df_uni, df_proj, df_elem, df_vinc, df_rub = dfs.values()"
      ]
    },
    {
      "cell_type": "code",
      "source": [
        "# Generating a dataframe with paid expenses data from 2002 to 2023\n",
        "\n",
        "exp_folder_2002_2023 = pathlib.Path(r'/content/drive/MyDrive/Dashboard_data/Despesas/2002_2023')\n",
        "\n",
        "df_list = [\n",
        "    pd.read_excel(expense_file).dropna(axis=1, how='all')\n",
        "    for expense_file in exp_folder_2002_2023.iterdir()\n",
        "]\n",
        "\n",
        "df_exp_2002_2023 = pd.concat(df_list, ignore_index=True)\n",
        "\n",
        "df_exp_2002_2023.drop(['VLCANCEL','DSFORMAPAG','DTPROG','BANCOCREDOR', 'AGENCIACREDOR','CONTA','NRCHEQUE',\n",
        "                       'IDENTPESSOA', 'NOMEPESSOA', 'BANCOVF', 'AGENCIAVF', 'CONTAVF', 'ORGREQ', 'CODCOMPL',\n",
        "                       'PERCENTUAL', 'VLRESULTADO', 'IRPF_CODCOMPL', 'IRPF_PERCENTUAL', 'IRPF_VLRESULTADO', 'NRPROCCONTR',\n",
        "                       'NRNOTAFISCAL', 'DTENTREMP', 'DTPREVENT', 'LOCALENT', 'DTBASE', 'CODRECFIN', 'CODTIPOPESSOA'], axis=1, inplace=True)\n",
        "\n",
        "df_exp_2002_2023.rename(columns = {'ANO':'Ano Emp.', 'EMPENHO':'Num. Empenho', 'NRPARCLIQ':'Num.Parc.Liq.',\n",
        "                                   'NRPARCPAG':'Num.Parc.Pag.', 'DSSITPROG':'Situação Pag.', 'DSTPEMP':'Tipo Emp.',\n",
        "                                   'CPTPAG':'Comp.pagto.', 'CPTPAGEST':'Comp.estorno', 'VLPAG':'Val.Pago',\n",
        "                                   'VLPAGEST':'Val.Pago Estorn.', 'VLRETIDO':'Val. Retido', 'RESUL_PAGO':'Result. pago',\n",
        "                                   'UNIDORC':'Unid. Orçam.', 'PROJATIV':'Proj/Ativ', 'RUBRICA':'Rubrica',\n",
        "                                   'DSELEDES':'Descrição da Rubrica', 'VINCORC':'Vinc. Orçam.', 'CPTEMP':'Comp.Empenho',\n",
        "                                   'GORANOPL':'Ano PL', 'GORNRPL':'Num. PL', 'GORNRPARCPL':'Parc. PL',\n",
        "                                   'GORANOOBRAACAO':'Ano Obra/Ação', 'GOROBRAACAO':'Num.Obra/Ação',\n",
        "                                   'NOMERECFIN':'Nome Recurso Financeiro', 'HISTORICO':'Histórico do Empenho',\n",
        "                                   'TPPROCCONTR':'Tipo Processo'}, inplace = True)\n",
        "\n",
        "df_exp_2002_2023 = df_exp_2002_2023.dropna(subset=['Comp.pagto.', 'Result. pago'], ignore_index=True)"
      ],
      "metadata": {
        "id": "3PW1jmH1OSWO"
      },
      "execution_count": 178,
      "outputs": []
    },
    {
      "cell_type": "code",
      "source": [
        "# Generating a dataframe with paid expenses data from 2024 onwards\n",
        "\n",
        "exp_folder_2024_onwards = pathlib.Path(r'/content/drive/MyDrive/Dashboard_data/Despesas/2024+')\n",
        "\n",
        "df_list = [\n",
        "    pd.read_csv(expense_file).dropna(axis=1, how='all')\n",
        "    for expense_file in exp_folder_2024_onwards.iterdir()\n",
        "]\n",
        "\n",
        "df_exp_2024_onwards = pd.concat(df_list, ignore_index=True)\n",
        "\n",
        "cols_to_convert = ['valorpago', 'restospagarnaoprocessadospagos', 'restospagarprocessadospagos']\n",
        "\n",
        "df_exp_2024_onwards[cols_to_convert] = (\n",
        "    df_exp_2024_onwards[cols_to_convert]\n",
        "    .apply(lambda col: col.str.removeprefix('R$ ').str.replace(',', '.', regex=False).astype(float))\n",
        ")\n",
        "\n",
        "df_exp_2024_onwards['Result. pago'] = df_exp_2024_onwards[cols_to_convert].sum(axis=1, numeric_only=True)\n",
        "\n",
        "df_exp_2024_onwards['mes'] = df_exp_2024_onwards['mes'].replace({0: 1, 13: 12})\n",
        "df_exp_2024_onwards.rename(columns={\n",
        "    'exercicio': 'YEAR', 'mes': 'MONTH', 'subacao': 'Proj/Ativ', 'unidadeorcamentaria': 'Unid. Orçam.'\n",
        "    }, inplace=True)\n",
        "df_exp_2024_onwards['Comp.pagto.'] = pd.to_datetime(df_exp_2024_onwards[['YEAR', 'MONTH']].assign(DAY=1))\n",
        "df_exp_2024_onwards['Elemento'] = df_exp_2024_onwards['elementocompleto'].str[:8].str.replace('.', '', regex=False).astype(int)\n",
        "df_exp_2024_onwards['Rubrica'] = df_exp_2024_onwards['desdobramentocompleto'].str[:12].str.replace('.', '', regex=False).astype(int)\n",
        "\n",
        "df_exp_2024_onwards = df_exp_2024_onwards.loc[df_exp_2024_onwards['Result. pago'] != 0].sort_values('Comp.pagto.').reset_index(drop=True)\n",
        "df_exp_2024_onwards['Vinc. Orçam.'] = df_exp_2024_onwards['defonterecursos'].str[:4].astype(int)"
      ],
      "metadata": {
        "id": "Vs_-F8ke46OV"
      },
      "execution_count": 190,
      "outputs": []
    },
    {
      "cell_type": "code",
      "source": [
        "# Updating the elements dataframe\n",
        "\n",
        "df_new_elem = df_exp_2024_onwards[['Elemento', 'deelemento']].drop_duplicates(keep='last').rename(columns={\n",
        "    'Elemento': 'elem_int',\n",
        "    'deelemento': 'nome_elem'\n",
        "})\n",
        "df_elem = pd.concat([df_elem, df_new_elem], ignore_index=True).drop_duplicates(subset='elem_int', keep='last').reset_index(drop=True)\n",
        "df_elem['elem'] = df_elem['elem_int'].astype(str) + ' - ' + df_elem['nome_elem'].str.title()"
      ],
      "metadata": {
        "id": "zlTJKehxFJw_"
      },
      "execution_count": 123,
      "outputs": []
    },
    {
      "cell_type": "code",
      "source": [
        "# Updating the rubric dataframe\n",
        "\n",
        "df_new_rub = df_exp_2024_onwards[['Rubrica', 'dedesdobramento']].drop_duplicates(keep='last').rename(columns={\n",
        "    'Rubrica': 'rub_int',\n",
        "    'dedesdobramento': 'nome_rub'\n",
        "})\n",
        "df_rub = pd.concat([df_rub, df_new_rub], ignore_index=True).drop_duplicates(subset='rub_int', keep='last').reset_index(drop=True)\n",
        "df_rub['rub'] = df_rub['rub_int'].astype(str) + ' - ' + df_rub['nome_rub'].str.title()"
      ],
      "metadata": {
        "id": "R9IEYOptSTte"
      },
      "execution_count": 124,
      "outputs": []
    },
    {
      "cell_type": "code",
      "source": [
        "# Updating the project dataframe\n",
        "\n",
        "df_new_proj = df_exp_2024_onwards[['Proj/Ativ', 'desubacao']].drop_duplicates(keep='last').rename(columns={\n",
        "    'Proj/Ativ': 'proj_int',\n",
        "    'desubacao': 'nome_proj'\n",
        "})\n",
        "df_proj = pd.concat([df_proj, df_new_proj], ignore_index=True).drop_duplicates(subset='proj_int', keep='last').reset_index(drop=True)\n",
        "df_proj['proj'] = df_proj['proj_int'].astype(str) + ' - ' + df_proj['nome_proj'].str.title()"
      ],
      "metadata": {
        "id": "rGmVqSx6Zo8a"
      },
      "execution_count": 132,
      "outputs": []
    },
    {
      "cell_type": "code",
      "source": [
        "# Updating the budget units dataframe\n",
        "\n",
        "df_new_uni = df_exp_2024_onwards[['Unid. Orçam.', 'deunidadeorcamentária']].drop_duplicates(keep='last').rename(columns={\n",
        "    'Unid. Orçam.': 'uni_int',\n",
        "    'deunidadeorcamentária': 'nome_uni'\n",
        "})\n",
        "df_uni = pd.concat([df_uni, df_new_uni], ignore_index=True).drop_duplicates(subset='uni_int', keep='last').reset_index(drop=True)\n",
        "df_uni['uni'] = df_uni['uni_int'].astype(str) + ' - ' + df_uni['nome_uni'].str.title()"
      ],
      "metadata": {
        "id": "P1VOjS1ebJe9"
      },
      "execution_count": 143,
      "outputs": []
    },
    {
      "cell_type": "code",
      "source": [
        "# Updating the entail dataframe\n",
        "\n",
        "df_new_vinc = df_exp_2024_onwards[['Vinc. Orçam.', 'defonterecursos']].drop_duplicates(keep='last').rename(columns={\n",
        "    'Vinc. Orçam.': 'vinc_int', 'defonterecursos': 'nome_vinc'\n",
        "})\n",
        "df_new_vinc['nome_vinc'] = df_new_vinc['nome_vinc'].str.split('-').str.get(1).str.strip()\n",
        "df_vinc = pd.concat([df_vinc, df_new_vinc], ignore_index=True).drop_duplicates(subset='vinc_int', keep='last').reset_index(drop=True)\n",
        "df_vinc['vinc'] = df_vinc['vinc_int'].astype(str) + ' - ' + df_vinc['nome_vinc'].str.title()"
      ],
      "metadata": {
        "id": "4VGOqDuamYEB"
      },
      "execution_count": 197,
      "outputs": []
    },
    {
      "cell_type": "code",
      "source": [
        "# Generating a dataframe with revenue collected from 2004 to 2017\n",
        "\n",
        "revenue_file_2004_2017 = r'/content/drive/MyDrive/Dashboard_data/Receitas/2004_2017/2004_2017_Cubo_Antigo.xlsx'\n",
        "\n",
        "df_rev_2004_2017 = pd.read_excel(revenue_file_2004_2017)\n",
        "df_rev_2004_2017.drop(0, inplace=True)\n",
        "df_rev_2004_2017.rename(columns={'Exercício': 'YEAR',\n",
        "                                 'Mês': 'MONTH',\n",
        "                                 'Rótulos de Linha': 'orgao',\n",
        "                                 'Vínculo Cod': 'vinculo',\n",
        "                                 'N6 Subalinea': 'desdobramento6',\n",
        "                                 'Valor Arrecadado': 'valor_arrecadado',\n",
        "                                 'Valor Orçado': 'valor_orcado'}, inplace=True)\n",
        "df_rev_2004_2017['Data'] = pd.to_datetime(df_rev_2004_2017[['YEAR', 'MONTH']].assign(DAY=1))\n",
        "df_rev_2004_2017[['YEAR', 'orgao', 'MONTH', 'vinculo']] = df_rev_2004_2017[['YEAR', 'orgao', 'MONTH', 'vinculo']].astype('int64')\n",
        "df_rev_2004_2017['vinculo'] = df_rev_2004_2017['vinculo'].astype('str').replace('400', '0400').replace('6051', '605X')\\\n",
        "  .replace('1', '0001').replace('605X', '6051')"
      ],
      "metadata": {
        "id": "I7LDs_LNbEn1"
      },
      "execution_count": 5,
      "outputs": []
    },
    {
      "cell_type": "code",
      "source": [
        "# Generating a dataframe with revenue collected from 2018 to 2023\n",
        "\n",
        "rev_folder_2018_2023 = pathlib.Path(r'/content/drive/MyDrive/Dashboard_data/Receitas/2018_2023')\n",
        "\n",
        "df_list = [\n",
        "    pd.read_excel(revenue_file).dropna(axis=1, how='all')\n",
        "    for revenue_file in rev_folder_2018_2023.iterdir()\n",
        "]\n",
        "\n",
        "df_rev_2018_2023 = pd.concat(df_list, ignore_index=True)\n",
        "\n",
        "df_rev_2018_2023.drop(columns=['valor_cancelado', 'valor_lancado', 'valor_meta', 'informacao_complementar'], inplace=True)\n",
        "df_rev_2018_2023 = df_rev_2018_2023.loc[df_rev_2018_2023['orgao_raiz'] == 7000].reset_index(drop=True)\n",
        "df_rev_2018_2023.rename(columns={'ano': 'YEAR', 'mes': 'MONTH'}, inplace=True)\n",
        "df_rev_2018_2023['Data'] = pd.to_datetime(df_rev_2018_2023[['YEAR', 'MONTH']].assign(DAY=1))\n",
        "df_rev_2018_2023['vinculo'] = df_rev_2018_2023['vinculo'].astype(str).replace({'400': '0400'})\n",
        "df_rev_2018_2023['rubrica'] = df_rev_2018_2023['rubrica'].astype(str)\n",
        "\n",
        "df_rev_2018_2023['Natureza da Receita Antiga'] = df_rev_2018_2023['rubrica'].str.pad(14, fillchar='0').str.replace(\n",
        "    r'(\\d{2})(\\d)(\\d)(\\d)(\\d{2})(\\d)(\\d)(\\d{2})(\\d{2})(\\d+)', r'\\1.\\2.\\3.\\4.\\5.\\6.\\7.\\8.\\9.\\10', regex=True\n",
        ") + '.' + df_rev_2018_2023['vinculo'] + '.0'"
      ],
      "metadata": {
        "id": "LthAQNv84hew"
      },
      "execution_count": 6,
      "outputs": []
    },
    {
      "cell_type": "code",
      "source": [
        "# Generating a dataframe with revenue collected from 2024 onwards\n",
        "\n",
        "rev_folder_2024_onwards = pathlib.Path(r'/content/drive/MyDrive/Dashboard_data/Receitas/2024+')\n",
        "\n",
        "df_list = [\n",
        "    pd.read_csv(revenue_file).dropna(axis=1, how='all')\n",
        "    for revenue_file in rev_folder_2024_onwards.iterdir()\n",
        "]\n",
        "\n",
        "df_rev_2024_onwards = pd.concat(df_list, ignore_index=True)\n",
        "\n",
        "df_rev_2024_onwards.rename(columns={'exercicio': 'YEAR', 'mes': 'MONTH'}, inplace=True)\n",
        "df_rev_2024_onwards['Data'] = pd.to_datetime(df_rev_2024_onwards[['YEAR', 'MONTH']].assign(DAY=1))"
      ],
      "metadata": {
        "id": "FLs80NCXO3SV"
      },
      "execution_count": 7,
      "outputs": []
    },
    {
      "cell_type": "code",
      "source": [
        "df_exp_2002_2023.loc[df_exp_2002_2023['Comp.pagto.'].dt.year == 2023, 'Result. pago'].sum()"
      ],
      "metadata": {
        "colab": {
          "base_uri": "https://localhost:8080/"
        },
        "id": "j9CfHISNBknr",
        "outputId": "9ff348eb-b0f4-491f-a7dd-ce28b3e75918"
      },
      "execution_count": 38,
      "outputs": [
        {
          "output_type": "execute_result",
          "data": {
            "text/plain": [
              "1850336804.21"
            ]
          },
          "metadata": {},
          "execution_count": 38
        }
      ]
    }
  ]
}