{
  "nbformat": 4,
  "nbformat_minor": 0,
  "metadata": {
    "colab": {
      "provenance": [],
      "mount_file_id": "1zvq8RRNMpHCoQJTARksJfUKrpjdkkPDa",
      "authorship_tag": "ABX9TyN4C2f/aplkbM9aJD0rID+U",
      "include_colab_link": true
    },
    "kernelspec": {
      "name": "python3",
      "display_name": "Python 3"
    },
    "language_info": {
      "name": "python"
    }
  },
  "cells": [
    {
      "cell_type": "markdown",
      "metadata": {
        "id": "view-in-github",
        "colab_type": "text"
      },
      "source": [
        "<a href=\"https://colab.research.google.com/github/TiagoIesbick/dashboard-etl/blob/main/dashboard_data.ipynb\" target=\"_parent\"><img src=\"https://colab.research.google.com/assets/colab-badge.svg\" alt=\"Open In Colab\"/></a>"
      ]
    },
    {
      "cell_type": "code",
      "source": [
        "import pandas as pd\n",
        "import pathlib"
      ],
      "metadata": {
        "id": "OVrDn1e7NcWP"
      },
      "execution_count": 97,
      "outputs": []
    },
    {
      "cell_type": "code",
      "execution_count": 98,
      "metadata": {
        "id": "rA33izJLNIJc"
      },
      "outputs": [],
      "source": [
        "file_path = r'/content/drive/MyDrive/Dashboard_data/utils/auxiliary_tables.xlsx'\n",
        "\n",
        "df_uni = pd.read_excel(file_path, sheet_name='n_uni', skiprows=2, header=None, names=['uni'])\n",
        "df_proj = pd.read_excel(file_path, sheet_name='n_proj', skiprows=3, header=None, names=['proj', 'nome_proj'])\n",
        "df_elem = pd.read_excel(file_path, sheet_name='n_elem', skiprows=3, header=None, names=['elem', 'nome_elem'])\n",
        "df_vinc = pd.read_excel(file_path, sheet_name='n_vinc', skiprows=3, header=None, names=['vinc', 'nome_vinc'])\n",
        "df_rub = pd.read_excel(file_path, sheet_name='n_rub', skiprows=3, header=None, names=['rub', 'nome_rub'])\n",
        "\n",
        "df_uni['nome_uni'] = df_uni['uni'].str[5:]\n",
        "df_uni['uni_int'] = df_uni['uni'].str[:4].astype(int)\n",
        "df_proj['proj_int'] = df_proj['proj'].str[:4].astype(int)\n",
        "df_elem['elem_int'] = df_elem['elem'].str[:6].astype(int)\n",
        "df_rub['rub_int'] = df_rub['rub'].str[:12].astype('int64')\n",
        "df_vinc['vinc_int'] = df_vinc['vinc'].str[:4].astype(int)"
      ]
    },
    {
      "cell_type": "code",
      "source": [
        "# Generating a dataframe with paid expenses data from 2002 to 2023\n",
        "\n",
        "exp_folder_2002_2023 = pathlib.Path(r'/content/drive/MyDrive/Dashboard_data/Despesas/2002_2023')\n",
        "\n",
        "df_list = [\n",
        "    pd.read_excel(expense_file).dropna(axis=1, how='all')\n",
        "    for expense_file in exp_folder_2002_2023.iterdir()\n",
        "]\n",
        "\n",
        "df_exp_2002_2023 = pd.concat(df_list, ignore_index=True)\n",
        "\n",
        "df_exp_2002_2023.drop(['VLCANCEL','DSFORMAPAG','DTPROG','BANCOCREDOR', 'AGENCIACREDOR','CONTA','NRCHEQUE',\n",
        "                       'IDENTPESSOA', 'NOMEPESSOA', 'BANCOVF', 'AGENCIAVF', 'CONTAVF', 'ORGREQ', 'CODCOMPL',\n",
        "                       'PERCENTUAL', 'VLRESULTADO', 'IRPF_CODCOMPL', 'IRPF_PERCENTUAL', 'IRPF_VLRESULTADO', 'NRPROCCONTR',\n",
        "                       'NRNOTAFISCAL', 'DTENTREMP', 'DTPREVENT', 'LOCALENT', 'DTBASE', 'CODRECFIN', 'CODTIPOPESSOA'], axis=1, inplace=True)\n",
        "\n",
        "df_exp_2002_2023.rename(columns = {'ANO':'Ano Emp.', 'EMPENHO':'Num. Empenho', 'NRPARCLIQ':'Num.Parc.Liq.',\n",
        "                                   'NRPARCPAG':'Num.Parc.Pag.', 'DSSITPROG':'Situação Pag.', 'DSTPEMP':'Tipo Emp.',\n",
        "                                   'CPTPAG':'Comp.pagto.', 'CPTPAGEST':'Comp.estorno', 'VLPAG':'Val.Pago',\n",
        "                                   'VLPAGEST':'Val.Pago Estorn.', 'VLRETIDO':'Val. Retido', 'RESUL_PAGO':'Result. pago',\n",
        "                                   'UNIDORC':'Unid. Orçam.', 'PROJATIV':'Proj/Ativ', 'RUBRICA':'Rubrica',\n",
        "                                   'DSELEDES':'Descrição da Rubrica', 'VINCORC':'Vinc. Orçam.', 'CPTEMP':'Comp.Empenho',\n",
        "                                   'GORANOPL':'Ano PL', 'GORNRPL':'Num. PL', 'GORNRPARCPL':'Parc. PL',\n",
        "                                   'GORANOOBRAACAO':'Ano Obra/Ação', 'GOROBRAACAO':'Num.Obra/Ação',\n",
        "                                   'NOMERECFIN':'Nome Recurso Financeiro', 'HISTORICO':'Histórico do Empenho',\n",
        "                                   'TPPROCCONTR':'Tipo Processo'}, inplace = True)\n",
        "\n",
        "df_exp_2002_2023 = df_exp_2002_2023.dropna(subset=['Comp.pagto.'], ignore_index=True)"
      ],
      "metadata": {
        "id": "3PW1jmH1OSWO"
      },
      "execution_count": 99,
      "outputs": []
    },
    {
      "cell_type": "code",
      "source": [
        "# Generating a dataframe with paid expenses data from 2024 onwards\n",
        "\n",
        "exp_folder_2024_onwards = pathlib.Path(r'/content/drive/MyDrive/Dashboard_data/Despesas/2024+')\n",
        "\n",
        "df_list = [\n",
        "    pd.read_csv(expense_file).dropna(axis=1, how='all')\n",
        "    for expense_file in exp_folder_2024_onwards.iterdir()\n",
        "]\n",
        "\n",
        "df_exp_2024_onwards = pd.concat(df_list, ignore_index=True)\n",
        "\n",
        "cols_to_convert = ['valorpago', 'restospagarnaoprocessadospagos', 'restospagarprocessadospagos']\n",
        "\n",
        "df_exp_2024_onwards[cols_to_convert] = (\n",
        "    df_exp_2024_onwards[cols_to_convert]\n",
        "    .apply(lambda col: col.str.removeprefix('R$ ').str.replace(',', '.', regex=False).astype(float))\n",
        ")\n",
        "\n",
        "df_exp_2024_onwards['Result. pago'] = df_exp_2024_onwards[cols_to_convert].sum(axis=1, numeric_only=True)\n",
        "\n",
        "df_exp_2024_onwards['mes'] = df_exp_2024_onwards['mes'].replace({0: 1, 13: 12})\n",
        "df_exp_2024_onwards.rename(columns={'exercicio': 'YEAR', 'mes': 'MONTH'}, inplace=True)\n",
        "df_exp_2024_onwards['Comp.pagto.'] = pd.to_datetime(df_exp_2024_onwards[['YEAR', 'MONTH']].assign(DAY=1))"
      ],
      "metadata": {
        "id": "Vs_-F8ke46OV"
      },
      "execution_count": 100,
      "outputs": []
    },
    {
      "cell_type": "code",
      "source": [
        "# Generating a dataframe with revenue collected from 2004 to 2017\n",
        "\n",
        "revenue_file_2004_2017 = r'/content/drive/MyDrive/Dashboard_data/Receitas/2004_2017/2004_2017_Cubo_Antigo.xlsx'\n",
        "\n",
        "df_rev_2004_2017 = pd.read_excel(revenue_file_2004_2017)\n",
        "df_rev_2004_2017.drop(0, inplace=True)\n",
        "df_rev_2004_2017.rename(columns={'Exercício': 'YEAR',\n",
        "                                 'Mês': 'MONTH',\n",
        "                                 'Rótulos de Linha': 'orgao',\n",
        "                                 'Vínculo Cod': 'vinculo',\n",
        "                                 'N6 Subalinea': 'desdobramento6',\n",
        "                                 'Valor Arrecadado': 'valor_arrecadado',\n",
        "                                 'Valor Orçado': 'valor_orcado'}, inplace=True)\n",
        "df_rev_2004_2017['Data'] = pd.to_datetime(df_rev_2004_2017[['YEAR', 'MONTH']].assign(DAY=1))\n",
        "df_rev_2004_2017[['YEAR', 'orgao', 'MONTH', 'vinculo']] = df_rev_2004_2017[['YEAR', 'orgao', 'MONTH', 'vinculo']].astype('int64')\n",
        "df_rev_2004_2017['vinculo'] = df_rev_2004_2017['vinculo'].astype('str').replace('400', '0400').replace('6051', '605X')\\\n",
        "  .replace('1', '0001').replace('605X', '6051')"
      ],
      "metadata": {
        "id": "I7LDs_LNbEn1"
      },
      "execution_count": 101,
      "outputs": []
    },
    {
      "cell_type": "code",
      "source": [
        "# Generating a dataframe with revenue collected from 2018 to 2023\n",
        "\n",
        "rev_folder_2018_2023 = pathlib.Path(r'/content/drive/MyDrive/Dashboard_data/Receitas/2018_2023')\n",
        "\n",
        "df_list = [\n",
        "    pd.read_excel(revenue_file).dropna(axis=1, how='all')\n",
        "    for revenue_file in rev_folder_2018_2023.iterdir()\n",
        "]\n",
        "\n",
        "df_rev_2018_2023 = pd.concat(df_list, ignore_index=True)\n",
        "\n",
        "df_rev_2018_2023.drop(columns=['valor_cancelado', 'valor_lancado', 'valor_meta', 'informacao_complementar'], inplace=True)\n",
        "df_rev_2018_2023 = df_rev_2018_2023.loc[df_rev_2018_2023['orgao_raiz'] == 7000].reset_index(drop=True)\n",
        "df_rev_2018_2023.rename(columns={'ano': 'YEAR', 'mes': 'MONTH'}, inplace=True)\n",
        "df_rev_2018_2023['Data'] = pd.to_datetime(df_rev_2018_2023[['YEAR', 'MONTH']].assign(DAY=1))\n",
        "df_rev_2018_2023['vinculo'] = df_rev_2018_2023['vinculo'].astype(str).replace({'400': '0400'})\n",
        "df_rev_2018_2023['rubrica'] = df_rev_2018_2023['rubrica'].astype(str)\n",
        "\n",
        "df_rev_2018_2023['Natureza da Receita Antiga'] = df_rev_2018_2023['rubrica'].str.pad(14, fillchar='0').str.replace(\n",
        "    r'(\\d{2})(\\d)(\\d)(\\d)(\\d{2})(\\d)(\\d)(\\d{2})(\\d{2})(\\d+)', r'\\1.\\2.\\3.\\4.\\5.\\6.\\7.\\8.\\9.\\10', regex=True\n",
        ") + '.' + df_rev_2018_2023['vinculo'] + '.0'"
      ],
      "metadata": {
        "id": "LthAQNv84hew"
      },
      "execution_count": 102,
      "outputs": []
    },
    {
      "cell_type": "code",
      "source": [
        "# Generating a dataframe with revenue collected from 2024 onwards\n",
        "\n",
        "rev_folder_2024_onwards = pathlib.Path(r'/content/drive/MyDrive/Dashboard_data/Receitas/2024+')\n",
        "\n",
        "df_list = [\n",
        "    pd.read_csv(revenue_file).dropna(axis=1, how='all')\n",
        "    for revenue_file in rev_folder_2024_onwards.iterdir()\n",
        "]\n",
        "\n",
        "df_rev_2024_onwards = pd.concat(df_list, ignore_index=True)\n",
        "\n",
        "df_rev_2024_onwards.rename(columns={'exercicio': 'YEAR', 'mes': 'MONTH'}, inplace=True)\n",
        "df_rev_2024_onwards['Data'] = pd.to_datetime(df_rev_2024_onwards[['YEAR', 'MONTH']].assign(DAY=1))"
      ],
      "metadata": {
        "id": "FLs80NCXO3SV"
      },
      "execution_count": 103,
      "outputs": []
    }
  ]
}