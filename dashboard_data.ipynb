{
  "nbformat": 4,
  "nbformat_minor": 0,
  "metadata": {
    "colab": {
      "provenance": [],
      "mount_file_id": "1zvq8RRNMpHCoQJTARksJfUKrpjdkkPDa",
      "authorship_tag": "ABX9TyMPLKviQhfKREuuzt+beRbB",
      "include_colab_link": true
    },
    "kernelspec": {
      "name": "python3",
      "display_name": "Python 3"
    },
    "language_info": {
      "name": "python"
    }
  },
  "cells": [
    {
      "cell_type": "markdown",
      "metadata": {
        "id": "view-in-github",
        "colab_type": "text"
      },
      "source": [
        "<a href=\"https://colab.research.google.com/github/TiagoIesbick/dashboard/blob/main/dashboard_data.ipynb\" target=\"_parent\"><img src=\"https://colab.research.google.com/assets/colab-badge.svg\" alt=\"Open In Colab\"/></a>"
      ]
    },
    {
      "cell_type": "code",
      "source": [
        "import pandas as pd\n",
        "import pathlib"
      ],
      "metadata": {
        "id": "OVrDn1e7NcWP"
      },
      "execution_count": null,
      "outputs": []
    },
    {
      "cell_type": "code",
      "execution_count": null,
      "metadata": {
        "id": "rA33izJLNIJc"
      },
      "outputs": [],
      "source": [
        "file_path = r'/content/drive/MyDrive/Dashboard_data/utils/auxiliary_tables.xlsx'\n",
        "\n",
        "df_uni = pd.read_excel(file_path, sheet_name='n_uni', skiprows=2, header=None, names=['uni'])\n",
        "df_proj = pd.read_excel(file_path, sheet_name='n_proj', skiprows=3, header=None, names=['proj', 'nome_proj'])\n",
        "df_elem = pd.read_excel(file_path, sheet_name='n_elem', skiprows=3, header=None, names=['elem', 'nome_elem'])\n",
        "df_vinc = pd.read_excel(file_path, sheet_name='n_vinc', skiprows=3, header=None, names=['vinc', 'nome_vinc'])\n",
        "df_rub = pd.read_excel(file_path, sheet_name='n_rub', skiprows=3, header=None, names=['rub', 'nome_rub'])\n",
        "\n",
        "df_uni['nome_uni'] = df_uni['uni'].str[5:]\n",
        "df_uni['uni_int'] = df_uni['uni'].str[:4].astype(int)\n",
        "df_proj['proj_int'] = df_proj['proj'].str[:4].astype(int)\n",
        "df_elem['elem_int'] = df_elem['elem'].str[:6].astype(int)\n",
        "df_rub['rub_int'] = df_rub['rub'].str[:12].astype('int64')\n",
        "df_vinc['vinc_int'] = df_vinc['vinc'].str[:4].astype(int)"
      ]
    },
    {
      "cell_type": "code",
      "source": [
        "# Gerando dataframe com os dados de despesas pagas\n",
        "\n",
        "sdo_folder_path = pathlib.Path(r'/content/drive/MyDrive/Dashboard_data/Despesas/SDO_PAGAMENTOS')\n",
        "\n",
        "df_sdo = pd.DataFrame()\n",
        "\n",
        "for sdo_file in sdo_folder_path.iterdir():\n",
        "    df = pd.read_excel(sdo_folder_path / sdo_file.name)\n",
        "    df_sdo = pd.concat([df_sdo.dropna(axis=1, how='all'), df.dropna(axis=1, how='all')], ignore_index=True)\n",
        "\n",
        "df_sdo.drop(['VLCANCEL','DSFORMAPAG','DTPROG','BANCOCREDOR', 'AGENCIACREDOR','CONTA','NRCHEQUE',\n",
        "             'IDENTPESSOA', 'NOMEPESSOA', 'BANCOVF', 'AGENCIAVF', 'CONTAVF', 'ORGREQ', 'CODCOMPL',\n",
        "             'PERCENTUAL', 'VLRESULTADO', 'IRPF_CODCOMPL', 'IRPF_PERCENTUAL', 'IRPF_VLRESULTADO', 'NRPROCCONTR',\n",
        "             'NRNOTAFISCAL', 'DTENTREMP', 'DTPREVENT', 'LOCALENT', 'DTBASE', 'CODRECFIN', 'CODTIPOPESSOA'], axis=1, inplace=True)\n",
        "\n",
        "df_sdo.rename(columns = {'ANO':'Ano Emp.', 'EMPENHO':'Num. Empenho', 'NRPARCLIQ':'Num.Parc.Liq.',\n",
        "                             'NRPARCPAG':'Num.Parc.Pag.', 'DSSITPROG':'Situação Pag.', 'DSTPEMP':'Tipo Emp.',\n",
        "                             'CPTPAG':'Comp.pagto.', 'CPTPAGEST':'Comp.estorno', 'VLPAG':'Val.Pago',\n",
        "                             'VLPAGEST':'Val.Pago Estorn.', 'VLRETIDO':'Val. Retido', 'RESUL_PAGO':'Result. pago',\n",
        "                             'UNIDORC':'Unid. Orçam.', 'PROJATIV':'Proj/Ativ', 'RUBRICA':'Rubrica',\n",
        "                             'DSELEDES':'Descrição da Rubrica', 'VINCORC':'Vinc. Orçam.', 'CPTEMP':'Comp.Empenho',\n",
        "                             'GORANOPL':'Ano PL', 'GORNRPL':'Num. PL', 'GORNRPARCPL':'Parc. PL',\n",
        "                             'GORANOOBRAACAO':'Ano Obra/Ação', 'GOROBRAACAO':'Num.Obra/Ação',\n",
        "                             'NOMERECFIN':'Nome Recurso Financeiro', 'HISTORICO':'Histórico do Empenho',\n",
        "                             'TPPROCCONTR':'Tipo Processo'}, inplace = True)\n",
        "\n",
        "df_sdo = df_sdo.dropna(subset=['Comp.pagto.'], ignore_index=True)"
      ],
      "metadata": {
        "id": "3PW1jmH1OSWO"
      },
      "execution_count": null,
      "outputs": []
    },
    {
      "cell_type": "code",
      "source": [
        "# Gerando dataframe com os dados de receitas pagas"
      ],
      "metadata": {
        "id": "I7LDs_LNbEn1"
      },
      "execution_count": null,
      "outputs": []
    }
  ]
}